{
 "cells": [
  {
   "cell_type": "code",
   "execution_count": 37,
   "id": "7ce31223",
   "metadata": {},
   "outputs": [],
   "source": [
    "import scipy.io\n",
    "import os\n",
    "import re\n",
    "import numpy as np\n",
    "import matplotlib.pyplot as plt\n",
    "from scipy.signal import savgol_filter\n",
    "from sklearn.decomposition import FastICA\n",
    "from sklearn.decomposition import PCA\n",
    "from sklearn.cluster import KMeans\n",
    "import seaborn as sns\n",
    "import matplotlib.pyplot as plt"
   ]
  },
  {
   "cell_type": "code",
   "execution_count": 38,
   "id": "b18eae62",
   "metadata": {},
   "outputs": [],
   "source": [
    "def load_data(file):\n",
    "    mat = scipy.io.loadmat(file)\n",
    "    return mat['val'][0]"
   ]
  },
  {
   "cell_type": "code",
   "execution_count": 39,
   "id": "fd3ea06e",
   "metadata": {},
   "outputs": [],
   "source": [
    "def show_single_plot(y):\n",
    "    electrode0=y[0]\n",
    "    electrode1=y[1]\n",
    "    electrode2=y[2]\n",
    "    electrode3=y[3]\n",
    "\n",
    "    fig,ax = plt.subplots(2,2)\n",
    "    x=(np.arange(0,len(y[0])))\n",
    "\n",
    "    ax[0][0].plot(x,y[0],linewidth=.4)\n",
    "    ax[0][1].plot(x,y[1],linewidth=.4)\n",
    "    ax[1][0].plot(x,y[2],linewidth=.4)\n",
    "    ax[1][1].plot(x,y[3],linewidth=.4)\n"
   ]
  },
  {
   "cell_type": "code",
   "execution_count": 55,
   "id": "9b312e93",
   "metadata": {},
   "outputs": [],
   "source": [
    "def filter_fetus(y_beat):\n",
    "#separating heartbeats\n",
    "    first_beats = scipy.signal.find_peaks(y_beat[0], height=0.05)\n",
    "    second_beats = scipy.signal.find_peaks(y_beat[1], height=0.05)\n",
    "    fetus =  y_beat[0] if first_beats[0].shape[0] > second_beats[0].shape[0] else y_beat[1]\n",
    "    fetal_info= first_beats if first_beats[0].shape[0] > second_beats[0].shape[0] else second_beats\n",
    "    fetal_spike_time=fetal_info[0]\n",
    "    fetal_amplitude=fetal_info[1]['peak_heights']\n",
    "    #print(fetal_amplitude)\n",
    "    #print(fetal_spike_time)\n",
    "\n",
    "    return fetus,fetal_amplitude,fetal_spike_time\n"
   ]
  },
  {
   "cell_type": "code",
   "execution_count": 41,
   "id": "518896a1",
   "metadata": {},
   "outputs": [],
   "source": [
    "def find_anomalies(data):\n",
    "    #define a list to accumlate anomalies\n",
    "    anomalies = []\n",
    "    \n",
    "    # Set upper and lower limit to 3 standard deviation\n",
    "    data_std = np.std(data)\n",
    "    data_mean = np.mean(data)\n",
    "    cuttoff=3 # 68% -1 , 95% -2 , 99.7% -3\n",
    "    anomaly_cut_off = data_std * cuttoff\n",
    "    \n",
    "    lower_limit  = data_mean - anomaly_cut_off \n",
    "    upper_limit = data_mean + anomaly_cut_off\n",
    "    \n",
    "    # Generate outliers\n",
    "    for outlier in data:\n",
    "        if outlier > upper_limit or outlier < lower_limit:\n",
    "            anomalies.append(outlier)\n",
    "    \n",
    "    return anomalies\n"
   ]
  },
  {
   "cell_type": "code",
   "execution_count": 50,
   "id": "6e0dbb46",
   "metadata": {},
   "outputs": [],
   "source": [
    "def filter_data(y):\n",
    "    transformer = FastICA(whiten='unit-variance')\n",
    "    y_transposed = y.T\n",
    "    y_transformed = transformer.fit_transform(y_transposed)\n",
    "    beats = []\n",
    "    for row in y_transformed.T:\n",
    "        if min(row)< -0.05 or max(row)>0.05:\n",
    "            # flip sign\n",
    "            if abs(np.min(row)) > abs(np.max(row)):\n",
    "                row = row * -1\n",
    "            beats.append(row)\n",
    "    beats = np.asarray(beats)\n",
    "\n",
    "    print(beats.shape)\n",
    "    return beats"
   ]
  },
  {
   "cell_type": "code",
   "execution_count": 57,
   "id": "629aff67",
   "metadata": {},
   "outputs": [
    {
     "name": "stdout",
     "output_type": "stream",
     "text": [
      "(3, 1500)\n",
      " no anomaly 1 irregularities heartbeat in  000.mat\n",
      " no anomaly 2 irregularities heartbeat in  000.mat\n",
      "(2, 2365)\n",
      " no anomaly 1 irregularities heartbeat in  001.mat\n",
      " no anomaly 2 irregularities heartbeat in  001.mat\n"
     ]
    }
   ],
   "source": [
    "def main():\n",
    "    start = 0\n",
    "    stop = 2 #set the number of files you want to go through\n",
    "    for i, filename in enumerate(os.listdir('heartbeat_data')):\n",
    "        out = re.findall(r'\\d+', filename)\n",
    "        if int(out[0]) < start:\n",
    "            continue\n",
    "        if i == stop:\n",
    "            break\n",
    "        \n",
    "        y=load_data('heartbeat_data/'+filename)\n",
    "        y_beats=filter_data(y)\n",
    "        fetus,fetal_amplitude,fetal_spike_time=filter_fetus(y_beats)\n",
    "        #sns.boxplot(data=fetal_amplitude)\n",
    "        anomaly1=find_anomalies(fetal_amplitude)\n",
    "        if anomaly1!=[]:\n",
    "            print(\"irregular heartbeat anomaly 1\",filename,anomaly1)\n",
    "            print(filename,anomaly1)\n",
    "        else:\n",
    "            print(\" no anomaly 1 irregularities heartbeat in \",filename)\n",
    "        \n",
    "        #calculaing widh between peaks\n",
    "            \n",
    "        n=fetal_spike_time.shape[0]\n",
    "        peak_width_diff=[np.abs(fetal_spike_time[i]-fetal_spike_time[i+1]) for i in range(n-5)]\n",
    "        #sns.boxplot(data=peak_width_diff)\n",
    "        anomaly2=find_anomalies(peak_width_diff)\n",
    "        if anomaly2!=[]:\n",
    "            print(\"irregular heartbeat anomaly2\",filename,anomaly2)\n",
    "        else:\n",
    "            print(\" no anomaly 2 irregularities heartbeat in \",filename)\n",
    "main()"
   ]
  }
 ],
 "metadata": {
  "kernelspec": {
   "display_name": "Python 3 (ipykernel)",
   "language": "python",
   "name": "python3"
  },
  "language_info": {
   "codemirror_mode": {
    "name": "ipython",
    "version": 3
   },
   "file_extension": ".py",
   "mimetype": "text/x-python",
   "name": "python",
   "nbconvert_exporter": "python",
   "pygments_lexer": "ipython3",
   "version": "3.9.12"
  }
 },
 "nbformat": 4,
 "nbformat_minor": 5
}
