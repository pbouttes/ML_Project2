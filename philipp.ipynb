{
 "cells": [
  {
   "cell_type": "code",
   "execution_count": null,
   "metadata": {},
   "outputs": [],
   "source": [
    "import scipy.io\n",
    "import os\n",
    "import re\n",
    "import numpy as np\n",
    "import pandas as pd\n",
    "import matplotlib.pyplot as plt\n",
    "from scipy.signal import savgol_filter\n",
    "import scipy.stats as st\n",
    "from sklearn.decomposition import FastICA"
   ]
  },
  {
   "cell_type": "code",
   "execution_count": null,
   "metadata": {},
   "outputs": [],
   "source": [
    "def load_data(file):\n",
    "    mat = scipy.io.loadmat(file)\n",
    "    return mat['val'][0]"
   ]
  },
  {
   "cell_type": "code",
   "execution_count": null,
   "metadata": {},
   "outputs": [],
   "source": [
    "def show_multiplot(ax, y):\n",
    "    x_linspace = np.linspace(0, len(y), len(y))\n",
    "    ax.plot(x_linspace, y)"
   ]
  },
  {
   "cell_type": "code",
   "execution_count": null,
   "metadata": {},
   "outputs": [],
   "source": [
    "def show_single_plot(y_beat, spike_times, spike_vals):\n",
    "    fig_subset_view, ax = plt.subplots()\n",
    "    ax.scatter(spike_times, spike_vals, color='red')\n",
    "    ax.grid()\n",
    "    show_multiplot(ax, y_beat)"
   ]
  },
  {
   "cell_type": "code",
   "execution_count": null,
   "metadata": {},
   "outputs": [],
   "source": [
    "def filter_noise(filename):\n",
    "    mat = scipy.io.loadmat('heartbeat_data/'+filename)\n",
    "    y=mat['val'][0]\n",
    "    y_transposed = y.T # columns\n",
    "    transformer = FastICA(whiten='unit-variance')\n",
    "    y_transformed = transformer.fit_transform(y_transposed)\n",
    "    y_beats = []\n",
    "\n",
    "    for row in y_transformed.T:\n",
    "        if min(row)< -2 or max(row)>2:\n",
    "            # flip sign\n",
    "            if abs(np.min(row)) > abs(np.max(row)):\n",
    "                row = row * -1\n",
    "            y_beats.append(row)\n",
    "\n",
    "    y_beats = np.asarray(y_beats)\n",
    "    return y_beats"
   ]
  },
  {
   "cell_type": "code",
   "execution_count": null,
   "metadata": {},
   "outputs": [],
   "source": [
    "def filter_fetus(y_beats):\n",
    "    sum_first_beats = sum(scipy.signal.find_peaks(y_beats[0], height=2)[0])\n",
    "    sum_second_beats = sum(scipy.signal.find_peaks(y_beats[1], height=2)[0])\n",
    "    return  y_beats[0] if sum_first_beats > sum_second_beats else y_beats[1]"
   ]
  },
  {
   "cell_type": "code",
   "execution_count": null,
   "metadata": {},
   "outputs": [],
   "source": [
    "def anomalies_detection(data, cofidence):\n",
    "    interval = st.t.interval(confidence= cofidence, df=len(data)-1,\n",
    "              loc=np.mean(data),\n",
    "              scale=st.sem(data))\n",
    "    outliers = []\n",
    "    for point in data:\n",
    "        if point < interval[0] or point > interval[1]:\n",
    "            outliers.append(point)\n",
    "    return outliers"
   ]
  },
  {
   "cell_type": "code",
   "execution_count": null,
   "metadata": {},
   "outputs": [],
   "source": [
    "def calc_center_window(y_beat, peak_times, win_size):\n",
    "    half_win = int(win_size/2)\n",
    "    windows = pd.DataFrame(columns = range(win_size), index=range(len(peak_times)))\n",
    "    # puts None for every missing value if win_size is leading out of bounds for peaks on edges\n",
    "    for count_row, peak in enumerate(peak_times): \n",
    "        min = peak - half_win\n",
    "        max = peak + half_win\n",
    "        count_col = 0\n",
    "        for count_beat in range (min, max):\n",
    "            if count_beat >= 0 and count_beat < len(y_beat):\n",
    "                    windows.at[count_row , count_col] = y_beat[count_beat]\n",
    "            count_col += 1\n",
    "    # fill nan with column mean\n",
    "    # windows.fillna(windows.mean())\n",
    "    return windows"
   ]
  },
  {
   "cell_type": "code",
   "execution_count": null,
   "metadata": {},
   "outputs": [],
   "source": [
    "def plot_average(y_beat, win_size, filename, sd_thres):\n",
    "    sd = np.std(y_beat, axis= 0)\n",
    "    mean_sd = np.mean(sd)\n",
    "    if mean_sd > sd_thres:\n",
    "        x = np.arange(win_size)\n",
    "        est = np.mean(y_beat, axis= 0) # axis = 0: columns\n",
    "        cis = (est - sd, est + sd)\n",
    "        fig_subset_view, ax = plt.subplots()\n",
    "        ax.grid()\n",
    "        ax.plot(x,est, label=\"found data\")\n",
    "        ax.fill_between(x,cis[0],cis[1],alpha=0.2)\n",
    "        ax.annotate('mean sd: '+str(f'{mean_sd:.2f}'),  xy=(1, 1),xycoords='axes fraction', fontsize=16, horizontalalignment='right', verticalalignment='top')\n",
    "        ax.annotate(filename,  xy=(0, 1),xycoords='axes fraction', fontsize=16, horizontalalignment='left', verticalalignment='top')"
   ]
  },
  {
   "cell_type": "code",
   "execution_count": null,
   "metadata": {},
   "outputs": [],
   "source": [
    "def main():\n",
    "    start = 1\n",
    "    stop = 18 #set the number of files you want to go through\n",
    "    for i, filename in enumerate(os.listdir('heartbeat_data')):\n",
    "        out = re.findall(r'\\d+', filename)\n",
    "        if int(out[0]) < start:\n",
    "            continue\n",
    "        if i == stop:\n",
    "            break\n",
    "        y_beats = filter_noise(filename)\n",
    "        y_beat = filter_fetus(y_beats)\n",
    "        \n",
    "        # prominence = 1 means next peak can be found after follow points have a drop of at least 1\n",
    "        peaks = scipy.signal.find_peaks(y_beat, height=2, prominence=1 )\n",
    "        spike_times= peaks[0]\n",
    "        spike_vals = peaks[1]['peak_heights']\n",
    "\n",
    "        show_single_plot(y_beat, spike_times, spike_vals)\n",
    "\n",
    "        win_size = 100\n",
    "        sd_thres = 0.1\n",
    "        windows = calc_center_window(y_beat, spike_times, win_size)\n",
    "\n",
    "        plot_average(windows, win_size, filename, sd_thres)\n",
    "\n",
    "main()"
   ]
  }
 ],
 "metadata": {
  "kernelspec": {
   "display_name": "Python 3.10.8 64-bit (microsoft store)",
   "language": "python",
   "name": "python3"
  },
  "language_info": {
   "codemirror_mode": {
    "name": "ipython",
    "version": 3
   },
   "file_extension": ".py",
   "mimetype": "text/x-python",
   "name": "python",
   "nbconvert_exporter": "python",
   "pygments_lexer": "ipython3",
   "version": "3.10.8"
  },
  "orig_nbformat": 4,
  "vscode": {
   "interpreter": {
    "hash": "541e896b51b936199f095fa9f652933270c17ed08d4b1543e2f5052de8d37832"
   }
  }
 },
 "nbformat": 4,
 "nbformat_minor": 2
}
