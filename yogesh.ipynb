{
 "cells": [
  {
   "cell_type": "code",
   "execution_count": 12,
   "metadata": {},
   "outputs": [
    {
     "name": "stdout",
     "output_type": "stream",
     "text": [
      "[[[ 999.22944711 1043.79880716 1075.29621546 ...  921.65169676\n",
      "    964.998439   1002.93826428]\n",
      "  [ 995.45822448  998.80254474  987.31132715 ... 1005.84579477\n",
      "   1002.918697   1000.33187258]\n",
      "  [1007.80702823 1003.86252641 1032.3821165  ...  973.64415306\n",
      "    984.47140442  994.32521129]\n",
      "  [1017.53704561  972.19624217 1004.18534537 ... 1018.05622869\n",
      "   1003.1944992   990.44452165]]]\n"
     ]
    }
   ],
   "source": [
    "import scipy.io\n",
    "import numpy as np\n",
    "\n",
    "mat = scipy.io.loadmat('heartbeat_data/000.mat')\n",
    "\n",
    "print(mat['val'])\n",
    "print(\"test\")"
   ]
  }
 ],
 "metadata": {
  "kernelspec": {
   "display_name": "Python 3.9.13 ('unsupervised')",
   "language": "python",
   "name": "python3"
  },
  "language_info": {
   "codemirror_mode": {
    "name": "ipython",
    "version": 3
   },
   "file_extension": ".py",
   "mimetype": "text/x-python",
   "name": "python",
   "nbconvert_exporter": "python",
   "pygments_lexer": "ipython3",
   "version": "3.9.13"
  },
  "orig_nbformat": 4,
  "vscode": {
   "interpreter": {
    "hash": "fc31c02b85e1ea816fe4d0e0c25e2476631c2235590485c804cd8ad8a279b6e4"
   }
  }
 },
 "nbformat": 4,
 "nbformat_minor": 2
}
