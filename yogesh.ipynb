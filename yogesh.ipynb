{
 "cells": [
  {
   "cell_type": "code",
   "execution_count": null,
   "metadata": {},
   "outputs": [],
   "source": [
    "import scipy.io\n",
    "import numpy as np\n",
    "from sklearn.decomposition import FastICA\n",
    "import matplotlib.pyplot as plt"
   ]
  },
  {
   "cell_type": "code",
   "execution_count": null,
   "metadata": {},
   "outputs": [],
   "source": [
    "def custom_plot(data):\n",
    "# Plotting data\n",
    "# create 100 equally spaced points between -3 and 3\n",
    "    x_linspace = np.linspace(0, len(data), len(data))\n",
    "\n",
    "    print(x_linspace.size)\n",
    "\n",
    "    fig_subset_view, ax_subset_view = plt.subplots()\n",
    "    ax_subset_view.grid()\n",
    "    ax_subset_view.set_ylim([500, 1400])\n",
    "    ax_subset_view.set_xlim([0,1500])\n",
    "    ax_subset_view.plot(x_linspace, data)"
   ]
  },
  {
   "cell_type": "code",
   "execution_count": null,
   "metadata": {},
   "outputs": [],
   "source": [
    "mat = scipy.io.loadmat('heartbeat_data/000.mat')\n",
    "\n",
    "y = mat['val'][0]\n",
    "\n",
    "custom_plot(y[0])"
   ]
  },
  {
   "cell_type": "code",
   "execution_count": null,
   "metadata": {},
   "outputs": [],
   "source": [
    "transformer = FastICA()\n",
    "y_transposed = y.T\n",
    "y_transformed = transformer.fit_transform(y_transposed)"
   ]
  },
  {
   "cell_type": "code",
   "execution_count": null,
   "metadata": {},
   "outputs": [],
   "source": [
    "y_transformed.shape\n",
    "\n",
    "# Plotting data\n",
    "# create 100 equally spaced points between -3 and 3\n",
    "x_linspace = np.linspace(0, len(y_transformed), len(y_transformed))\n",
    "\n",
    "#print(x_linspace.size)\n",
    "\n",
    "fig_subset_view, ax_subset_view = plt.subplots()\n",
    "ax_subset_view.grid()\n",
    "ax_subset_view.set_ylim([-1, 1])\n",
    "ax_subset_view.set_xlim([0,1500])\n",
    "ax_subset_view.plot(x_linspace, y_transformed)"
   ]
  }
 ],
 "metadata": {
  "kernelspec": {
   "display_name": "Python 3.9.13 ('unsupervised')",
   "language": "python",
   "name": "python3"
  },
  "language_info": {
   "codemirror_mode": {
    "name": "ipython",
    "version": 3
   },
   "file_extension": ".py",
   "mimetype": "text/x-python",
   "name": "python",
   "nbconvert_exporter": "python",
   "pygments_lexer": "ipython3",
   "version": "3.9.13"
  },
  "orig_nbformat": 4,
  "vscode": {
   "interpreter": {
    "hash": "fc31c02b85e1ea816fe4d0e0c25e2476631c2235590485c804cd8ad8a279b6e4"
   }
  }
 },
 "nbformat": 4,
 "nbformat_minor": 2
}
